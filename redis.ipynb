{
 "cells": [
  {
   "cell_type": "code",
   "execution_count": 1,
   "metadata": {},
   "outputs": [],
   "source": [
    "import redis"
   ]
  },
  {
   "cell_type": "code",
   "execution_count": 91,
   "metadata": {},
   "outputs": [],
   "source": [
    "r = redis.Redis(host='localhost', port=6379, db=0, decode_responses=True)"
   ]
  },
  {
   "cell_type": "code",
   "execution_count": 212,
   "metadata": {},
   "outputs": [],
   "source": [
    "# Cria os usuários\n",
    "for i in range(1, 50, 1):\n",
    "    user = {'name': i, 'bcartela': f'cartela:{i}', 'bscore': f'score:{i}'}   \n",
    "    r.hmset(f'user:{i}', user)"
   ]
  },
  {
   "cell_type": "code",
   "execution_count": 213,
   "metadata": {},
   "outputs": [],
   "source": [
    "# Gera os numeros para gerar as cartelas\n",
    "for numero in range(1,100,1):\n",
    "    r.sadd('numeros_cartela', numero)\n",
    "\n",
    "# Gera as cartelas    \n",
    "for i in range(1, 50, 1):\n",
    "    r.hset(f'cartela:{i}', 'numeros', str(r.srandmember('numeros_cartela', 15)).strip('[]'))"
   ]
  },
  {
   "cell_type": "code",
   "execution_count": 289,
   "metadata": {},
   "outputs": [],
   "source": [
    "# Cria/Zera o set score de cada usuário\n",
    "for i in range(1, 50, 1):\n",
    "    r.zadd('scores', {f'user:{i}': 0})    "
   ]
  },
  {
   "cell_type": "code",
   "execution_count": 292,
   "metadata": {},
   "outputs": [
    {
     "name": "stdout",
     "output_type": "stream",
     "text": [
      "user:25 vencedor\n"
     ]
    }
   ],
   "source": [
    "# set de pedras\n",
    "r.set('pedras', 15)\n",
    "\n",
    "\n",
    "# inicia o jogo\n",
    "while int(r.get('pedras')) > 0:\n",
    "    r.decr('pedras', amount=1)\n",
    "    num_sorteado = int(r.srandmember('numeros_cartela', 1)[0])\n",
    "    for u in users: \n",
    "        cartela = r.hget(u, 'bcartela')\n",
    "        score = r.hget(u, 'bscore')\n",
    "        numeros_cartela = r.hget(cartela, 'numeros')\n",
    "        if str(num_sorteado) in numeros_cartela: \n",
    "            r.zincrby('scores', 1, u)\n",
    "            #print(f'{u} pontuou')\n",
    "            if r.zrange('scores', 0, -1, withscores=True)[len(ranges)-1][1] == 15:\n",
    "                print(f'{u} vencedor')\n",
    "                r.set('pedras', 0)\n",
    "                break\n",
    "                "
   ]
  }
 ],
 "metadata": {
  "kernelspec": {
   "display_name": "Python 3",
   "language": "python",
   "name": "python3"
  },
  "language_info": {
   "codemirror_mode": {
    "name": "ipython",
    "version": 3
   },
   "file_extension": ".py",
   "mimetype": "text/x-python",
   "name": "python",
   "nbconvert_exporter": "python",
   "pygments_lexer": "ipython3",
   "version": "3.7.4"
  }
 },
 "nbformat": 4,
 "nbformat_minor": 2
}
